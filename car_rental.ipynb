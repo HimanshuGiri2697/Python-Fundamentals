{
 "cells": [
  {
   "cell_type": "markdown",
   "id": "1e205ed6-aa25-4cfc-b733-2fcf4cc2c664",
   "metadata": {},
   "source": [
    "### Online Car Rental Platform"
   ]
  },
  {
   "cell_type": "code",
   "execution_count": 12,
   "id": "57a8218e-237a-4755-ac93-1679cc4beec5",
   "metadata": {
    "tags": []
   },
   "outputs": [],
   "source": [
    "class Customer():\n",
    "    def __init__(self,name):\n",
    "        self.name=name\n",
    "    \n",
    "    def request_cars(self,RC_obj,num_cars,rental_period):\n",
    "        return RC_obj.rent_cars(self.name,num_cars,rental_period)\n",
    "    \n",
    "    def return_cars(self,RC_obj,num_cars,rental_period):\n",
    "        return RC_obj.return_car(self.name,num_cars,rental_period)"
   ]
  },
  {
   "cell_type": "code",
   "execution_count": 17,
   "id": "c49671d5-bb01-4459-be9e-33d027ea846f",
   "metadata": {
    "tags": []
   },
   "outputs": [],
   "source": [
    "from datetime import datetime, timedelta\n",
    "class rental_cars(Customer):\n",
    "    def __init__(self,total_cars):\n",
    "        self.bill=0\n",
    "        self.total_cars=total_cars\n",
    "        self.rental_info={}\n",
    "        self.available_cars=total_cars\n",
    "        self.hourly_rates=50\n",
    "        self.weekly_rates=400\n",
    "        self.daily_rates=150\n",
    "        \n",
    "    def show_availiable_cars(self):\n",
    "        print('Availiable Cars:',self.available_cars)\n",
    "    \n",
    "    def rent_hourly(self, customer_name,num_cars):\n",
    "        return self.rent_cars(customer_name,num_cars, 'hourly')\n",
    "\n",
    "    def rent_daily(self,customer_name, num_cars):\n",
    "        return self.rent_cars(customer_name,num_cars, 'daily')\n",
    "\n",
    "    def rent_weekly(self,customer_name, num_cars):\n",
    "        return self.rent_cars(customer_name,num_cars, 'weekly')\n",
    "    \n",
    "    def rent_cars(self,customer_name,num_cars,rental_period):\n",
    "        if 0<num_cars<=self.available_cars:\n",
    "            rent_start_time=datetime.now()\n",
    "            self.rental_info[customer_name]={'num_cars':num_cars,\n",
    "                                                'rental_period':rental_period,\n",
    "                                                 'rent_start_time':rent_start_time\n",
    "                                                 } \n",
    "            self.available_cars-=num_cars\n",
    "            return \"Rental successful! {} cars rented for {} period(s).\".format(num_cars,rental_period)\n",
    "        else:\n",
    "            return \"Invalid request. Please check the number of cars requested.\"\n",
    "    \n",
    "    def return_car(self,customer_name, num_cars, rental_period):\n",
    "        return_time=datetime.now()\n",
    "        rent_duration=(return_time - self.rental_info[customer_name]['rent_start_time'])\n",
    "        \n",
    "        if self.rental_info[customer_name]['rental_period']=='hourly':\n",
    "            self.bill=(rent_duration.seconds//3600)*self.hourly_rates*self.rental_info[customer_name]['num_cars']\n",
    "        elif self.rental_info[customer_name]['rental_period']=='daily':\n",
    "            self.bill=rent_duration.days*self.daily_rates*self.rental_info[customer_name]['num_cars']\n",
    "        elif self.rental_info[customer_name]['rental_period']=='weekly':\n",
    "            self.bill=(rent_duration.days//7)*self.weekly_rates*self.rental_info[customer_name]['num_cars']\n",
    "        \n",
    "        self.available_cars+=self.rental_info[customer_name]['num_cars']\n",
    "        \n",
    "        return '{} cars returned and the bill is:{}'.format(self.rental_info[customer_name]['num_cars'],self.bill)   "
   ]
  },
  {
   "cell_type": "code",
   "execution_count": null,
   "id": "2e84c872-0556-4cdf-ac95-819ec9126c37",
   "metadata": {},
   "outputs": [],
   "source": []
  },
  {
   "cell_type": "code",
   "execution_count": null,
   "id": "d60b6fa1-1e21-4859-916b-d1803679b190",
   "metadata": {},
   "outputs": [],
   "source": []
  }
 ],
 "metadata": {
  "kernelspec": {
   "display_name": "Python 3 (ipykernel)",
   "language": "python",
   "name": "python3"
  },
  "language_info": {
   "codemirror_mode": {
    "name": "ipython",
    "version": 3
   },
   "file_extension": ".py",
   "mimetype": "text/x-python",
   "name": "python",
   "nbconvert_exporter": "python",
   "pygments_lexer": "ipython3",
   "version": "3.11.5"
  }
 },
 "nbformat": 4,
 "nbformat_minor": 5
}
