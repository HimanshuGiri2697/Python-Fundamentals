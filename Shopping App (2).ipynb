{
 "cells": [
  {
   "cell_type": "markdown",
   "id": "5072353f-af41-4916-9186-6d5432e56231",
   "metadata": {},
   "source": [
    "### Shopping App"
   ]
  },
  {
   "cell_type": "code",
   "execution_count": 3,
   "id": "836476f5-af03-4dbf-95b0-ccad0fa6399a",
   "metadata": {
    "tags": []
   },
   "outputs": [],
   "source": [
    "users={'vedant':[123],'anand':[829],'gokul':[756]}"
   ]
  },
  {
   "cell_type": "code",
   "execution_count": 4,
   "id": "185b7ad6-d3e8-42c9-84f5-b5953dc1f38f",
   "metadata": {
    "tags": []
   },
   "outputs": [],
   "source": [
    "admin={'Akash':[784],'Hemant':[872],'Piyush':[702]}"
   ]
  },
  {
   "cell_type": "code",
   "execution_count": 5,
   "id": "e377a8d0-f71d-4b27-a39c-fe3adf8c38d1",
   "metadata": {
    "tags": []
   },
   "outputs": [],
   "source": [
    "cart={'1334':['123',2],'4576':['456',4],'5884':['789',3]}"
   ]
  },
  {
   "cell_type": "code",
   "execution_count": 6,
   "id": "aaf6a037-ce27-40b8-aac5-75e6e1141ba6",
   "metadata": {
    "tags": []
   },
   "outputs": [],
   "source": [
    "products={'Boat':['123','abc245',3000],'Coats':['456','xyx367',5000],'Jackets':['789','pqr987',6000],'Caps':['269','lmn997',8000]}"
   ]
  },
  {
   "cell_type": "code",
   "execution_count": 7,
   "id": "098f0546-af68-4073-8aaf-615b3b93c299",
   "metadata": {
    "tags": []
   },
   "outputs": [],
   "source": [
    "def create_new_user():\n",
    "    user_id = str(input(\"Enter new user ID:\"))\n",
    "    password =int(input('Enter your password:'))\n",
    "    users[user_id]=[password]"
   ]
  },
  {
   "cell_type": "code",
   "execution_count": 8,
   "id": "42845dcf-37b1-4594-888c-9d77b7dac022",
   "metadata": {
    "tags": []
   },
   "outputs": [],
   "source": [
    "def user_login():\n",
    "    login_id = str(input(\"Enter log-in ID:\"))\n",
    "    login_password =int(input('Enter your login password:'))\n",
    "    if users[login_id]==[login_password]:\n",
    "        print('Log-in Sucessful!')\n",
    "        print('*'*80)\n",
    "        \n",
    "        while True:\n",
    "            print('*'*30,'USER','*'*50)\n",
    "            print('\\t1.View_Catalog')\n",
    "            print('\\t2.display_cart')\n",
    "            print('\\t3.add_to_cart')\n",
    "            print('\\t4.remove_from_cart')\n",
    "            print('\\t5.Payment')\n",
    "            print('\\t6.Exit')\n",
    "        \n",
    "            opt=int(input('Enter an option(1-6):'))\n",
    "            if opt==1:\n",
    "                view_catalog()\n",
    "            elif opt==2:\n",
    "                display_cart()\n",
    "            elif opt==3:\n",
    "                add_to_cart()\n",
    "            elif opt==4:\n",
    "                remove_from_cart()\n",
    "            elif opt==5:\n",
    "                payment()\n",
    "            else :\n",
    "                break\n",
    "            print()\n",
    "            \n",
    "    else:\n",
    "        print('Invalid Credentials. Please try again ')"
   ]
  },
  {
   "cell_type": "code",
   "execution_count": 9,
   "id": "5f75f07a-c378-49af-b61a-ee6391ee85d3",
   "metadata": {
    "tags": []
   },
   "outputs": [],
   "source": [
    "def admin_login():\n",
    "    admin_id = str(input(\"Enter admin log-in ID:\"))\n",
    "    admin_password =int(input('Enter your admin login password:'))\n",
    "    if admin[admin_id]==[admin_password]:\n",
    "        print('Admin Log-in Sucessful!')   \n",
    "        \n",
    "        while True:\n",
    "            print('*'*30,'ADMIN','*'*50)\n",
    "            print('\\t1.View_Catalog()')\n",
    "            print('\\t2.add_new_products')\n",
    "            print('\\t3.modify_product')\n",
    "            print('\\t4.remove_product')\n",
    "            print('\\t5.Exit')\n",
    "            \n",
    "            opt=int(input('Enter an option(1-5):'))\n",
    "            if opt==1:\n",
    "                view_catalog()\n",
    "            elif opt==2:\n",
    "                add_new_products()\n",
    "            elif opt==3:\n",
    "                modify_product()\n",
    "            elif opt==4:\n",
    "                remove_product()\n",
    "            else:\n",
    "                break\n",
    "            print()\n",
    "    else:\n",
    "        print('Invalid Credentials. Please try again ')\n",
    "    "
   ]
  },
  {
   "cell_type": "code",
   "execution_count": 10,
   "id": "4a20d2cd-d2b2-4430-aa56-b8b4c176d034",
   "metadata": {
    "tags": []
   },
   "outputs": [],
   "source": [
    "def display_cart():\n",
    "    print(cart)"
   ]
  },
  {
   "cell_type": "code",
   "execution_count": 11,
   "id": "0616a3d9-ce04-4502-b1fc-4b11082459f5",
   "metadata": {
    "tags": []
   },
   "outputs": [],
   "source": [
    "def add_to_cart():\n",
    "    session_id=input('Enter session_id:')\n",
    "    product_id=input('Enter Product_id:')\n",
    "    Qty=int(input('Enter product quantity:'))\n",
    "    if session_id not in cart.keys():\n",
    "        cart[session_id]=[product_id,Qty]\n",
    "    elif product_id==cart[session_id][0] and session_id in cart.keys():\n",
    "        cart[session_id][1]+=Qty\n",
    "    else:\n",
    "        print('Invalid Session id')"
   ]
  },
  {
   "cell_type": "code",
   "execution_count": 12,
   "id": "d2e799cc-b5ef-40b6-9069-3b63b3a8600c",
   "metadata": {
    "tags": []
   },
   "outputs": [],
   "source": [
    "def remove_from_cart():\n",
    "    ss_id=input('Enter the session_id to remove item:')\n",
    "    pdt_id=input('Enter the product_id to remove item:')\n",
    "    if cart[ss_id][0]==pdt_id:\n",
    "        remove_qty=int(input('Enter quantity to remove:'))\n",
    "        new_qty=int(cart[ss_id][1])-remove_qty\n",
    "        cart[ss_id][1]=new_qty\n",
    "    else:\n",
    "        del cart[ss_id]"
   ]
  },
  {
   "cell_type": "code",
   "execution_count": 13,
   "id": "09517374-ce34-4873-b9f4-e3e4f27a85a7",
   "metadata": {
    "tags": []
   },
   "outputs": [],
   "source": [
    "def view_catalog():\n",
    "    print(products)"
   ]
  },
  {
   "cell_type": "code",
   "execution_count": 14,
   "id": "652f2fbb-ceb0-419b-a3e5-2002a33b8ba4",
   "metadata": {
    "tags": []
   },
   "outputs": [],
   "source": [
    "def add_new_products():\n",
    "    product_name=str(input('Enter product name:'))\n",
    "    p_id=input('Enter product_id name:')\n",
    "    cat_id=input('Enter category_id name:')\n",
    "    price=input('Enter price of product:')\n",
    "    \n",
    "    products[product_name]=[p_id,cat_id,price]\n",
    "    "
   ]
  },
  {
   "cell_type": "code",
   "execution_count": 15,
   "id": "83a4a97f-845e-431a-b01b-328237a36b15",
   "metadata": {
    "tags": []
   },
   "outputs": [],
   "source": [
    "def modify_product():\n",
    "    mod_product=str(input('Enter the product name you want to modify:'))\n",
    "    new_p_id=input('Enter new product_id:')\n",
    "    new_cat_id=input('Enter new category_id:')\n",
    "    new_price=input('Enter new price:')\n",
    "    \n",
    "    products[mod_product]=[new_p_id,new_cat_id,new_price]"
   ]
  },
  {
   "cell_type": "code",
   "execution_count": 16,
   "id": "8df2783b-2f7d-456d-b1e0-040b5da1ed7d",
   "metadata": {
    "tags": []
   },
   "outputs": [],
   "source": [
    "def remove_product():\n",
    "    remv_product=str(input('Enter name of product to remove:'))\n",
    "    del products[remv_product]"
   ]
  },
  {
   "cell_type": "code",
   "execution_count": 17,
   "id": "0410c9ea-6433-47c9-95f2-39f466c66e06",
   "metadata": {
    "tags": []
   },
   "outputs": [],
   "source": [
    "def payment():\n",
    "    print('payment option')\n",
    "    print('\\t1.Net Banking')\n",
    "    print('\\t2.PayPal')\n",
    "    print('\\t3.UPI')\n",
    "        \n",
    "    option=int(input('Enter an option(1-3):'))\n",
    "    \n",
    "    if 1>=option<=3:\n",
    "        print('Your order is successfully placed')\n",
    "    else:\n",
    "        print('Payment Unsuccessful!')\n",
    "    "
   ]
  },
  {
   "cell_type": "code",
   "execution_count": 18,
   "id": "282a20d0",
   "metadata": {
    "tags": []
   },
   "outputs": [
    {
     "name": "stdout",
     "output_type": "stream",
     "text": [
      "********************************************************************************\n",
      "Welcome To The Demo Marketplace\n",
      "********************************************************************************\n",
      "\t1.User log_in\n",
      "\t2.Admin Log_in\n",
      "\t3.Create New User\n",
      "\t4.Exit\n"
     ]
    },
    {
     "name": "stdin",
     "output_type": "stream",
     "text": [
      "Enter an option(1-4): 1\n",
      "Enter log-in ID: vedant\n",
      "Enter your login password: 123\n"
     ]
    },
    {
     "name": "stdout",
     "output_type": "stream",
     "text": [
      "Log-in Sucessful!\n",
      "********************************************************************************\n",
      "****************************** USER **************************************************\n",
      "\t1.View_Catalog\n",
      "\t2.display_cart\n",
      "\t3.add_to_cart\n",
      "\t4.remove_from_cart\n",
      "\t5.Payment\n",
      "\t6.Exit\n"
     ]
    },
    {
     "name": "stdin",
     "output_type": "stream",
     "text": [
      "Enter an option(1-6): 1\n"
     ]
    },
    {
     "name": "stdout",
     "output_type": "stream",
     "text": [
      "{'Boat': ['123', 'abc245', 3000], 'Coats': ['456', 'xyx367', 5000], 'Jackets': ['789', 'pqr987', 6000], 'Caps': ['269', 'lmn997', 8000]}\n",
      "\n",
      "****************************** USER **************************************************\n",
      "\t1.View_Catalog\n",
      "\t2.display_cart\n",
      "\t3.add_to_cart\n",
      "\t4.remove_from_cart\n",
      "\t5.Payment\n",
      "\t6.Exit\n"
     ]
    },
    {
     "name": "stdin",
     "output_type": "stream",
     "text": [
      "Enter an option(1-6): 2\n"
     ]
    },
    {
     "name": "stdout",
     "output_type": "stream",
     "text": [
      "{'1334': ['123', 2], '4576': ['456', 4], '5884': ['789', 3]}\n",
      "\n",
      "****************************** USER **************************************************\n",
      "\t1.View_Catalog\n",
      "\t2.display_cart\n",
      "\t3.add_to_cart\n",
      "\t4.remove_from_cart\n",
      "\t5.Payment\n",
      "\t6.Exit\n"
     ]
    },
    {
     "name": "stdin",
     "output_type": "stream",
     "text": [
      "Enter an option(1-6): 3\n",
      "Enter session_id: 4557\n",
      "Enter Product_id: 243\n",
      "Enter product quantity: 3\n"
     ]
    },
    {
     "name": "stdout",
     "output_type": "stream",
     "text": [
      "\n",
      "****************************** USER **************************************************\n",
      "\t1.View_Catalog\n",
      "\t2.display_cart\n",
      "\t3.add_to_cart\n",
      "\t4.remove_from_cart\n",
      "\t5.Payment\n",
      "\t6.Exit\n"
     ]
    },
    {
     "name": "stdin",
     "output_type": "stream",
     "text": [
      "Enter an option(1-6): 4\n",
      "Enter the session_id to remove item: 4557\n",
      "Enter the product_id to remove item: 243\n",
      "Enter quantity to remove: 3\n"
     ]
    },
    {
     "name": "stdout",
     "output_type": "stream",
     "text": [
      "\n",
      "****************************** USER **************************************************\n",
      "\t1.View_Catalog\n",
      "\t2.display_cart\n",
      "\t3.add_to_cart\n",
      "\t4.remove_from_cart\n",
      "\t5.Payment\n",
      "\t6.Exit\n"
     ]
    },
    {
     "name": "stdin",
     "output_type": "stream",
     "text": [
      "Enter an option(1-6): 5\n"
     ]
    },
    {
     "name": "stdout",
     "output_type": "stream",
     "text": [
      "payment option\n",
      "\t1.Net Banking\n",
      "\t2.PayPal\n",
      "\t3.UPI\n"
     ]
    },
    {
     "name": "stdin",
     "output_type": "stream",
     "text": [
      "Enter an option(1-3): 1\n"
     ]
    },
    {
     "name": "stdout",
     "output_type": "stream",
     "text": [
      "Your order is successfully placed\n",
      "\n",
      "****************************** USER **************************************************\n",
      "\t1.View_Catalog\n",
      "\t2.display_cart\n",
      "\t3.add_to_cart\n",
      "\t4.remove_from_cart\n",
      "\t5.Payment\n",
      "\t6.Exit\n"
     ]
    },
    {
     "name": "stdin",
     "output_type": "stream",
     "text": [
      "Enter an option(1-6): 6\n"
     ]
    },
    {
     "name": "stdout",
     "output_type": "stream",
     "text": [
      "\n",
      "********************************************************************************\n",
      "Welcome To The Demo Marketplace\n",
      "********************************************************************************\n",
      "\t1.User log_in\n",
      "\t2.Admin Log_in\n",
      "\t3.Create New User\n",
      "\t4.Exit\n"
     ]
    },
    {
     "name": "stdin",
     "output_type": "stream",
     "text": [
      "Enter an option(1-4): 2\n",
      "Enter admin log-in ID: Akash\n",
      "Enter your admin login password: 784\n"
     ]
    },
    {
     "name": "stdout",
     "output_type": "stream",
     "text": [
      "Admin Log-in Sucessful!\n",
      "****************************** ADMIN **************************************************\n",
      "\t1.View_Catalog()\n",
      "\t2.add_new_products\n",
      "\t3.modify_product\n",
      "\t4.remove_product\n",
      "\t5.Exit\n"
     ]
    },
    {
     "name": "stdin",
     "output_type": "stream",
     "text": [
      "Enter an option(1-5): 1\n"
     ]
    },
    {
     "name": "stdout",
     "output_type": "stream",
     "text": [
      "{'Boat': ['123', 'abc245', 3000], 'Coats': ['456', 'xyx367', 5000], 'Jackets': ['789', 'pqr987', 6000], 'Caps': ['269', 'lmn997', 8000]}\n",
      "\n",
      "****************************** ADMIN **************************************************\n",
      "\t1.View_Catalog()\n",
      "\t2.add_new_products\n",
      "\t3.modify_product\n",
      "\t4.remove_product\n",
      "\t5.Exit\n"
     ]
    },
    {
     "name": "stdin",
     "output_type": "stream",
     "text": [
      "Enter an option(1-5): 2\n",
      "Enter product name: books\n",
      "Enter product_id name: 421\n",
      "Enter category_id name: @ab266\n",
      "Enter price of product: 1000\n"
     ]
    },
    {
     "name": "stdout",
     "output_type": "stream",
     "text": [
      "\n",
      "****************************** ADMIN **************************************************\n",
      "\t1.View_Catalog()\n",
      "\t2.add_new_products\n",
      "\t3.modify_product\n",
      "\t4.remove_product\n",
      "\t5.Exit\n"
     ]
    },
    {
     "name": "stdin",
     "output_type": "stream",
     "text": [
      "Enter an option(1-5): 4\n",
      "Enter name of product to remove: books\n"
     ]
    },
    {
     "name": "stdout",
     "output_type": "stream",
     "text": [
      "\n",
      "****************************** ADMIN **************************************************\n",
      "\t1.View_Catalog()\n",
      "\t2.add_new_products\n",
      "\t3.modify_product\n",
      "\t4.remove_product\n",
      "\t5.Exit\n"
     ]
    },
    {
     "name": "stdin",
     "output_type": "stream",
     "text": [
      "Enter an option(1-5): 5\n"
     ]
    },
    {
     "name": "stdout",
     "output_type": "stream",
     "text": [
      "\n",
      "********************************************************************************\n",
      "Welcome To The Demo Marketplace\n",
      "********************************************************************************\n",
      "\t1.User log_in\n",
      "\t2.Admin Log_in\n",
      "\t3.Create New User\n",
      "\t4.Exit\n"
     ]
    },
    {
     "name": "stdin",
     "output_type": "stream",
     "text": [
      "Enter an option(1-4): 3\n",
      "Enter new user ID: Priya\n",
      "Enter your password: 388\n"
     ]
    },
    {
     "name": "stdout",
     "output_type": "stream",
     "text": [
      "\n",
      "********************************************************************************\n",
      "Welcome To The Demo Marketplace\n",
      "********************************************************************************\n",
      "\t1.User log_in\n",
      "\t2.Admin Log_in\n",
      "\t3.Create New User\n",
      "\t4.Exit\n"
     ]
    },
    {
     "name": "stdin",
     "output_type": "stream",
     "text": [
      "Enter an option(1-4): 4\n"
     ]
    }
   ],
   "source": [
    "\n",
    "while True:\n",
    "    print('*'*80)\n",
    "    print('Welcome To The Demo Marketplace')\n",
    "    print('*'*80)\n",
    "    print('\\t1.User log_in')\n",
    "    print('\\t2.Admin Log_in')\n",
    "    print('\\t3.Create New User')\n",
    "    print('\\t4.Exit')\n",
    "\n",
    "    option=int(input('Enter an option(1-4):'))\n",
    "\n",
    "    if option==1:\n",
    "        user_login()\n",
    "    elif option==2:\n",
    "        admin_login()\n",
    "    elif option==3:\n",
    "        create_new_user()\n",
    "    else:\n",
    "        break\n",
    "    print()"
   ]
  },
  {
   "cell_type": "code",
   "execution_count": null,
   "id": "9ad90708-2dc5-40cd-bdc1-3f5e44444688",
   "metadata": {},
   "outputs": [],
   "source": []
  },
  {
   "cell_type": "code",
   "execution_count": null,
   "id": "ee7e2e36-a192-4614-a3a9-f70b8c9a8187",
   "metadata": {},
   "outputs": [],
   "source": []
  }
 ],
 "metadata": {
  "kernelspec": {
   "display_name": "Python 3 (ipykernel)",
   "language": "python",
   "name": "python3"
  },
  "language_info": {
   "codemirror_mode": {
    "name": "ipython",
    "version": 3
   },
   "file_extension": ".py",
   "mimetype": "text/x-python",
   "name": "python",
   "nbconvert_exporter": "python",
   "pygments_lexer": "ipython3",
   "version": "3.11.5"
  }
 },
 "nbformat": 4,
 "nbformat_minor": 5
}
