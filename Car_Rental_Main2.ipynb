{
 "cells": [
  {
   "cell_type": "code",
   "execution_count": null,
   "id": "02b842ff-4f3f-4593-b2fa-444f7fe38f1c",
   "metadata": {
    "tags": []
   },
   "outputs": [
    {
     "name": "stdin",
     "output_type": "stream",
     "text": [
      "Enter your name: him\n"
     ]
    },
    {
     "name": "stdout",
     "output_type": "stream",
     "text": [
      "1. Display Available Cars\n",
      "2. Rent Hourly\n",
      "3. Rent Daily\n",
      "4. Rent Weekly\n",
      "5. Return Car\n",
      "6. Exit\n"
     ]
    },
    {
     "name": "stdin",
     "output_type": "stream",
     "text": [
      "Enter an option: 1\n"
     ]
    },
    {
     "name": "stdout",
     "output_type": "stream",
     "text": [
      "Availiable Cars: 30\n",
      "None\n",
      "1. Display Available Cars\n",
      "2. Rent Hourly\n",
      "3. Rent Daily\n",
      "4. Rent Weekly\n",
      "5. Return Car\n",
      "6. Exit\n"
     ]
    },
    {
     "name": "stdin",
     "output_type": "stream",
     "text": [
      "Enter an option: 2\n",
      "Enter the number of cars to rent:  4\n"
     ]
    },
    {
     "name": "stdout",
     "output_type": "stream",
     "text": [
      "Rental successful! 4 cars rented for hourly period(s).\n",
      "1. Display Available Cars\n",
      "2. Rent Hourly\n",
      "3. Rent Daily\n",
      "4. Rent Weekly\n",
      "5. Return Car\n",
      "6. Exit\n"
     ]
    },
    {
     "name": "stdin",
     "output_type": "stream",
     "text": [
      "Enter an option: 1\n"
     ]
    },
    {
     "name": "stdout",
     "output_type": "stream",
     "text": [
      "Availiable Cars: 26\n",
      "None\n",
      "1. Display Available Cars\n",
      "2. Rent Hourly\n",
      "3. Rent Daily\n",
      "4. Rent Weekly\n",
      "5. Return Car\n",
      "6. Exit\n"
     ]
    },
    {
     "name": "stdin",
     "output_type": "stream",
     "text": [
      "Enter an option: 5\n",
      "Enter no. of cars to return: 4\n"
     ]
    },
    {
     "name": "stdout",
     "output_type": "stream",
     "text": [
      "4 cars returned and the bill is:200\n",
      "1. Display Available Cars\n",
      "2. Rent Hourly\n",
      "3. Rent Daily\n",
      "4. Rent Weekly\n",
      "5. Return Car\n",
      "6. Exit\n"
     ]
    }
   ],
   "source": [
    "from car_rental import rental_cars,Customer\n",
    "from datetime import datetime\n",
    "def main():\n",
    "    total_cars=30\n",
    "    RC_1 = rental_cars(total_cars)\n",
    "    Ctm_1 = Customer(input(\"Enter your name:\"))\n",
    "\n",
    "    while True:\n",
    "        print(\"1. Display Available Cars\")\n",
    "        print(\"2. Rent Hourly\")\n",
    "        print(\"3. Rent Daily\")\n",
    "        print(\"4. Rent Weekly\")\n",
    "        print(\"5. Return Car\")\n",
    "        print(\"6. Exit\")\n",
    "        \n",
    "        option=int(input('Enter an option:'))\n",
    "        if option==1:\n",
    "            print(RC_1.show_availiable_cars())\n",
    "        elif option==2:\n",
    "            num_cars=int(input(\"Enter the number of cars to rent: \"))\n",
    "            print(Ctm_1.request_cars(RC_1,num_cars,'hourly'))\n",
    "        elif option==3:\n",
    "            num_cars=int(input(\"Enter the number of cars to rent: \"))\n",
    "            print(Ctm_1.request_cars(RC_1,num_cars,'daily'))\n",
    "        elif option==4:\n",
    "            num_cars=int(input(\"Enter the number of cars to rent: \"))\n",
    "            print(Ctm_1.request_cars(RC_1,num_cars,'weekly'))\n",
    "        elif option==5:\n",
    "            if True:\n",
    "                retrn_car=int(input('Enter no. of cars to return:'))\n",
    "                print(Ctm_1.return_cars(RC_1,retrn_car,RC_1.rental_info[Ctm_1.name]['rental_period']))\n",
    "            else:\n",
    "                print(\"No cars rented.\")\n",
    "        elif option == 6:\n",
    "            print(\"Exiting the program.\")\n",
    "            break\n",
    "        else:\n",
    "            print(\"Invalid choice. Please enter a number between 1 and 6.\")\n",
    "\n",
    "if __name__ == \"__main__\":\n",
    "    main()        "
   ]
  },
  {
   "cell_type": "code",
   "execution_count": null,
   "id": "a84b0728-c9aa-44aa-9537-993f6c32fe8f",
   "metadata": {},
   "outputs": [],
   "source": []
  },
  {
   "cell_type": "code",
   "execution_count": null,
   "id": "c1e147ae-624d-4e36-b73f-762eef776563",
   "metadata": {},
   "outputs": [],
   "source": []
  }
 ],
 "metadata": {
  "kernelspec": {
   "display_name": "Python 3 (ipykernel)",
   "language": "python",
   "name": "python3"
  },
  "language_info": {
   "codemirror_mode": {
    "name": "ipython",
    "version": 3
   },
   "file_extension": ".py",
   "mimetype": "text/x-python",
   "name": "python",
   "nbconvert_exporter": "python",
   "pygments_lexer": "ipython3",
   "version": "3.11.5"
  }
 },
 "nbformat": 4,
 "nbformat_minor": 5
}
